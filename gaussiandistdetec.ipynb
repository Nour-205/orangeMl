{
 "cells": [
  {
   "cell_type": "code",
   "execution_count": null,
   "id": "b0b35390",
   "metadata": {},
   "outputs": [],
   "source": [
    "#importing libraries\n",
    "\n",
    "import numpy as np\n",
    "import matplotlib.pyplot as plt\n",
    "import pandas as pd\n",
    "\n"
   ]
  },
  {
   "cell_type": "code",
   "execution_count": null,
   "id": "d8e69bd4",
   "metadata": {},
   "outputs": [],
   "source": [
    " # implementing Gaussian Distribution Detection\n",
    "\n",
    "class anomalyDetection:\n",
    "    def __init__(self, X, Y=None):\n",
    "        self.X = X\n",
    "        self.m, self.n = X.shape\n",
    "        self.mu = np.zeros((self.n,))\n",
    "        self.sigma2 = np.zeros((self.n,))\n",
    "        if Y is not None:\n",
    "            self.epsilon, self.F1 = self._threshold(Y)\n",
    "        else:\n",
    "            self.epsilon = None\n",
    "            self.F1 = None\n",
    "    \n",
    "    def fit(self):\n",
    "        self.mu = (1/self.m) * np.sum(self.X, axis=0)\n",
    "        self.sigma2 = (1/self.m) * np.sum((self.X - self.mu)**2, axis=0)\n",
    "    \n",
    "    def probabilitydensity(self, X):\n",
    "        p = (1/((2*np.pi)**(self.n/2) * np.prod(self.sigma2)**0.5)) * np.exp(-0.5 * np.sum(((X - self.mu)**2)/self.sigma2, axis=1))\n",
    "        return p\n",
    "    \n",
    "    def _threshold(self, Y):\n",
    "        p = self.probabilitydensity(Y)\n",
    "        bestF1 = 0\n",
    "        bestEpsilon = 0\n",
    "        step = (max(p) - min(p)) / 1000\n",
    "        for epsilon in np.arange(min(p), max(p), step):\n",
    "            predictions = (p < epsilon)\n",
    "            tp = np.sum((predictions == 1) & (Y == 1)) # true positives\n",
    "            fp = np.sum((predictions == 1) & (Y == 0)) # false positives\n",
    "            fn = np.sum((predictions == 0) & (Y == 1)) # false negatives\n",
    "            if tp + fp == 0 or tp + fn == 0: # to avoid division by zero\n",
    "                continue\n",
    "            prec = tp / (tp + fp)\n",
    "            rec = tp / (tp + fn)\n",
    "            F1 = (2 * prec * rec) / (prec + rec)\n",
    "            if F1 > bestF1:\n",
    "                bestF1 = F1\n",
    "                bestEpsilon = epsilon\n",
    "        self.epsilon = bestEpsilon\n",
    "        return bestEpsilon, bestF1\n",
    "    \n",
    "    def predict(self, X, epsilon=None):\n",
    "        p = self.probabilitydensity(X)\n",
    "        if epsilon is not None:\n",
    "            return p < epsilon\n",
    "        elif self.epsilon is None:\n",
    "            print(\"no epsilon\")\n",
    "        return p < self.epsilon"
   ]
  },
  {
   "cell_type": "code",
   "execution_count": null,
   "id": "42a5925d",
   "metadata": {},
   "outputs": [],
   "source": [
    "#Importing the dataset\n",
    "\n",
    "dataset = pd.read_csv('')"
   ]
  }
 ],
 "metadata": {
  "language_info": {
   "name": "python"
  }
 },
 "nbformat": 4,
 "nbformat_minor": 5
}
